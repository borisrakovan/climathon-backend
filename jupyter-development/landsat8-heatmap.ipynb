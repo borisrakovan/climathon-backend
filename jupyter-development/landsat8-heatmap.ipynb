{
 "cells": [
  {
   "cell_type": "code",
   "execution_count": 1,
   "metadata": {
    "collapsed": true
   },
   "outputs": [
    {
     "ename": "ModuleNotFoundError",
     "evalue": "No module named 'sentinelhub'",
     "output_type": "error",
     "traceback": [
      "\u001B[1;31m---------------------------------------------------------------------------\u001B[0m",
      "\u001B[1;31mModuleNotFoundError\u001B[0m                       Traceback (most recent call last)",
      "\u001B[1;32m<ipython-input-1-a010fc79c890>\u001B[0m in \u001B[0;36m<module>\u001B[1;34m\u001B[0m\n\u001B[0;32m      6\u001B[0m \u001B[1;32mimport\u001B[0m \u001B[0mmatplotlib\u001B[0m\u001B[1;33m.\u001B[0m\u001B[0mpyplot\u001B[0m \u001B[1;32mas\u001B[0m \u001B[0mplt\u001B[0m\u001B[1;33m\u001B[0m\u001B[1;33m\u001B[0m\u001B[0m\n\u001B[0;32m      7\u001B[0m \u001B[1;33m\u001B[0m\u001B[0m\n\u001B[1;32m----> 8\u001B[1;33m \u001B[1;32mfrom\u001B[0m \u001B[0msentinelhub\u001B[0m \u001B[1;32mimport\u001B[0m \u001B[0mSHConfig\u001B[0m\u001B[1;33m\u001B[0m\u001B[1;33m\u001B[0m\u001B[0m\n\u001B[0m\u001B[0;32m      9\u001B[0m \u001B[1;33m\u001B[0m\u001B[0m\n\u001B[0;32m     10\u001B[0m \u001B[1;32mfrom\u001B[0m \u001B[0msentinelhub\u001B[0m \u001B[1;32mimport\u001B[0m \u001B[0mMimeType\u001B[0m\u001B[1;33m,\u001B[0m \u001B[0mCRS\u001B[0m\u001B[1;33m,\u001B[0m \u001B[0mBBox\u001B[0m\u001B[1;33m,\u001B[0m \u001B[0mSentinelHubRequest\u001B[0m\u001B[1;33m,\u001B[0m \u001B[0mSentinelHubDownloadClient\u001B[0m\u001B[1;33m,\u001B[0m\u001B[0;31m \u001B[0m\u001B[0;31m\\\u001B[0m\u001B[1;33m\u001B[0m\u001B[1;33m\u001B[0m\u001B[0m\n",
      "\u001B[1;31mModuleNotFoundError\u001B[0m: No module named 'sentinelhub'"
     ]
    }
   ],
   "source": [
    "import os\n",
    "import sys\n",
    "import datetime\n",
    "\n",
    "import numpy as np\n",
    "import matplotlib.pyplot as plt\n",
    "\n",
    "from sentinelhub import SHConfig\n",
    "\n",
    "from sentinelhub import MimeType, CRS, BBox, SentinelHubRequest, SentinelHubDownloadClient, \\\n",
    "    DataCollection, bbox_to_dimensions, DownloadRequest, WmsRequest"
   ]
  },
  {
   "cell_type": "code",
   "execution_count": 2,
   "outputs": [],
   "source": [
    "def plot_image(image, factor=1.0, clip_range = None, **kwargs):\n",
    "    \"\"\"\n",
    "    Utility function for plotting RGB images.\n",
    "    \"\"\"\n",
    "    fig, ax = plt.subplots(nrows=1, ncols=1, figsize=(15, 15))\n",
    "    if clip_range is not None:\n",
    "        ax.imshow(np.clip(image * factor, *clip_range), **kwargs)\n",
    "    else:\n",
    "        ax.imshow(image * factor, **kwargs)\n",
    "    ax.set_xticks([])\n",
    "    ax.set_yticks([])\n",
    "    plt.show()\n"
   ],
   "metadata": {
    "collapsed": false,
    "pycharm": {
     "name": "#%%\n"
    }
   }
  },
  {
   "cell_type": "code",
   "execution_count": null,
   "outputs": [],
   "source": [
    "BBox(bbox=[17.006149, 48.087483, 17.227249, 48.21598], crs=CRS.WGS84)\n",
    "betsiboka_coords_wgs84 =[17.006149, 48.087483, 17.227249, 48.21598]\n",
    "resolution = 60\n",
    "betsiboka_bbox = BBox(bbox=betsiboka_coords_wgs84, crs=CRS.WGS84)\n",
    "betsiboka_size = bbox_to_dimensions(betsiboka_bbox, resolution=resolution)\n",
    "\n",
    "print(f'Image shape at {resolution} m resolution: {betsiboka_size} pixels')\n",
    "\n",
    "\n",
    "evalscript_true_color = \"\"\"\n",
    "//VERSION=3 (auto-converted from 1)\n",
    "\n",
    "    const blue_red = [\n",
    "      [223, 0x003d99],\n",
    "      [253, 0x2e82ff],\n",
    "      [263, 0x80b3ff],\n",
    "      [272, 0xe0edff],\n",
    "      [273, 0xffffff],\n",
    "      [274, 0xfefce7],\n",
    "      [283, 0xFDE191],\n",
    "      [293, 0xf69855],\n",
    "      [303, 0xec6927],\n",
    "      [323, 0xaa2d1d],\n",
    "      [363, 0x650401],\n",
    "      [373, 0x3d0200],\n",
    "    ];\n",
    "\n",
    "    const viz = new ColorRampVisualizer(blue_red);\n",
    "\n",
    "    function evaluatePixel(samples) {\n",
    "      let val = samples.B10;\n",
    "      return [...viz.process(val), samples.dataMask];\n",
    "    }\n",
    "\n",
    "    function setup() {\n",
    "      return {\n",
    "        input: [{\n",
    "          bands: [\"B10\", \"dataMask\"]\n",
    "        }],\n",
    "        output: { bands: 4 }  }\n",
    "    }\n",
    "\n",
    "\"\"\"\n",
    "\n",
    "request_true_color = SentinelHubRequest(\n",
    "    evalscript=evalscript_true_color,\n",
    "    input_data=[\n",
    "        SentinelHubRequest.input_data(\n",
    "            data_collection=DataCollection.LANDSAT_OT_L1,\n",
    "            time_interval=('2020-07-01', '2020-07-30'),\n",
    "        )\n",
    "    ],\n",
    "    responses=[\n",
    "        SentinelHubRequest.output_response('default', MimeType.PNG)\n",
    "    ],\n",
    "    bbox=betsiboka_bbox,\n",
    "    size=betsiboka_size,\n",
    "    config=config\n",
    ")\n",
    "\n",
    "true_color_imgs = request_true_color.get_data()\n",
    "\n",
    "image = true_color_imgs[0]\n",
    "print(f'Image type: {image.dtype}')\n",
    "\n",
    "# plot function\n",
    "# factor 1/255 to scale between 0-1\n",
    "# factor 3.5 to increase brightness\n",
    "plot_image(image, factor=3.5/255, clip_range=(0,1))"
   ],
   "metadata": {
    "collapsed": false,
    "pycharm": {
     "name": "#%%\n"
    }
   }
  }
 ],
 "metadata": {
  "kernelspec": {
   "display_name": "Python 3",
   "language": "python",
   "name": "python3"
  },
  "language_info": {
   "codemirror_mode": {
    "name": "ipython",
    "version": 2
   },
   "file_extension": ".py",
   "mimetype": "text/x-python",
   "name": "python",
   "nbconvert_exporter": "python",
   "pygments_lexer": "ipython2",
   "version": "2.7.6"
  }
 },
 "nbformat": 4,
 "nbformat_minor": 0
}